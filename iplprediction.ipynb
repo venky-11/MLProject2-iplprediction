{
 "cells": [
  {
   "cell_type": "code",
   "execution_count": 1,
   "id": "65435b6c",
   "metadata": {},
   "outputs": [
    {
     "name": "stdout",
     "output_type": "stream",
     "text": [
      "Collecting streamlitNote: you may need to restart the kernel to use updated packages.\n",
      "\n",
      "  Using cached streamlit-1.20.0-py2.py3-none-any.whl (9.6 MB)\n",
      "Collecting altair<5,>=3.2.0\n",
      "  Using cached altair-4.2.2-py3-none-any.whl (813 kB)\n",
      "Requirement already satisfied: blinker>=1.0.0 in c:\\users\\sharm\\appdata\\roaming\\python\\python311\\site-packages (from streamlit) (1.5)\n",
      "Requirement already satisfied: cachetools>=4.0 in c:\\users\\sharm\\appdata\\roaming\\python\\python311\\site-packages (from streamlit) (5.3.0)\n",
      "Collecting click>=7.0\n",
      "  Using cached click-8.1.3-py3-none-any.whl (96 kB)\n",
      "Requirement already satisfied: importlib-metadata>=1.4 in c:\\users\\sharm\\appdata\\roaming\\python\\python311\\site-packages (from streamlit) (6.1.0)\n",
      "Requirement already satisfied: numpy in c:\\users\\sharm\\appdata\\local\\programs\\python\\python311\\lib\\site-packages (from streamlit) (1.24.2)\n",
      "Requirement already satisfied: packaging>=14.1 in c:\\users\\sharm\\appdata\\roaming\\python\\python311\\site-packages (from streamlit) (23.0)\n",
      "Requirement already satisfied: pandas<2,>=0.25 in c:\\users\\sharm\\appdata\\roaming\\python\\python311\\site-packages (from streamlit) (1.5.3)\n",
      "Requirement already satisfied: pillow>=6.2.0 in c:\\users\\sharm\\appdata\\roaming\\python\\python311\\site-packages (from streamlit) (9.4.0)\n",
      "Requirement already satisfied: protobuf<4,>=3.12 in c:\\users\\sharm\\appdata\\roaming\\python\\python311\\site-packages (from streamlit) (3.20.3)\n",
      "Collecting pyarrow>=4.0\n",
      "  Using cached pyarrow-11.0.0-cp311-cp311-win_amd64.whl (20.5 MB)\n",
      "Collecting pympler>=0.9\n",
      "  Using cached Pympler-1.0.1-py3-none-any.whl (164 kB)\n",
      "Requirement already satisfied: python-dateutil in c:\\users\\sharm\\appdata\\local\\programs\\python\\python311\\lib\\site-packages (from streamlit) (2.8.2)\n",
      "Requirement already satisfied: requests>=2.4 in c:\\users\\sharm\\appdata\\roaming\\python\\python311\\site-packages (from streamlit) (2.28.2)\n",
      "Collecting rich>=10.11.0\n",
      "  Using cached rich-13.3.3-py3-none-any.whl (238 kB)\n",
      "Collecting semver\n",
      "  Downloading semver-3.0.0-py3-none-any.whl (17 kB)\n",
      "Collecting toml\n",
      "  Using cached toml-0.10.2-py2.py3-none-any.whl (16 kB)\n",
      "Collecting typing-extensions>=3.10.0.0\n",
      "  Using cached typing_extensions-4.5.0-py3-none-any.whl (27 kB)\n",
      "Requirement already satisfied: tzlocal>=1.1 in c:\\users\\sharm\\appdata\\roaming\\python\\python311\\site-packages (from streamlit) (4.3)\n",
      "Requirement already satisfied: validators>=0.2 in c:\\users\\sharm\\appdata\\roaming\\python\\python311\\site-packages (from streamlit) (0.20.0)\n",
      "Collecting gitpython!=3.1.19\n",
      "  Using cached GitPython-3.1.31-py3-none-any.whl (184 kB)\n",
      "Collecting pydeck>=0.1.dev5\n",
      "  Using cached pydeck-0.8.0-py2.py3-none-any.whl (4.7 MB)\n",
      "Requirement already satisfied: tornado>=6.0.3 in c:\\users\\sharm\\appdata\\local\\programs\\python\\python311\\lib\\site-packages (from streamlit) (6.2)\n",
      "Collecting watchdog\n",
      "  Using cached watchdog-3.0.0-py3-none-win_amd64.whl (82 kB)\n",
      "Requirement already satisfied: entrypoints in c:\\users\\sharm\\appdata\\roaming\\python\\python311\\site-packages (from altair<5,>=3.2.0->streamlit) (0.4)\n",
      "Collecting jinja2\n",
      "  Using cached Jinja2-3.1.2-py3-none-any.whl (133 kB)\n",
      "Collecting jsonschema>=3.0\n",
      "  Using cached jsonschema-4.17.3-py3-none-any.whl (90 kB)\n",
      "Collecting toolz\n",
      "  Using cached toolz-0.12.0-py3-none-any.whl (55 kB)\n",
      "Requirement already satisfied: colorama in c:\\users\\sharm\\appdata\\roaming\\python\\python311\\site-packages (from click>=7.0->streamlit) (0.4.6)\n",
      "Requirement already satisfied: gitdb<5,>=4.0.1 in c:\\users\\sharm\\appdata\\roaming\\python\\python311\\site-packages (from gitpython!=3.1.19->streamlit) (4.0.10)\n",
      "Collecting zipp>=0.5\n",
      "  Using cached zipp-3.15.0-py3-none-any.whl (6.8 kB)\n",
      "Requirement already satisfied: pytz>=2020.1 in c:\\users\\sharm\\appdata\\local\\programs\\python\\python311\\lib\\site-packages (from pandas<2,>=0.25->streamlit) (2023.3)\n",
      "Requirement already satisfied: six>=1.5 in c:\\users\\sharm\\appdata\\local\\programs\\python\\python311\\lib\\site-packages (from python-dateutil->streamlit) (1.16.0)\n",
      "Collecting charset-normalizer<4,>=2\n",
      "  Using cached charset_normalizer-3.1.0-cp311-cp311-win_amd64.whl (96 kB)\n",
      "Requirement already satisfied: idna<4,>=2.5 in c:\\users\\sharm\\appdata\\roaming\\python\\python311\\site-packages (from requests>=2.4->streamlit) (3.4)\n",
      "Collecting urllib3<1.27,>=1.21.1\n",
      "  Using cached urllib3-1.26.15-py2.py3-none-any.whl (140 kB)\n",
      "Requirement already satisfied: certifi>=2017.4.17 in c:\\users\\sharm\\appdata\\roaming\\python\\python311\\site-packages (from requests>=2.4->streamlit) (2022.12.7)\n",
      "Collecting markdown-it-py<3.0.0,>=2.2.0\n",
      "  Using cached markdown_it_py-2.2.0-py3-none-any.whl (84 kB)\n",
      "Requirement already satisfied: pygments<3.0.0,>=2.13.0 in c:\\users\\sharm\\appdata\\local\\programs\\python\\python311\\lib\\site-packages (from rich>=10.11.0->streamlit) (2.14.0)\n",
      "Collecting pytz-deprecation-shim\n",
      "  Using cached pytz_deprecation_shim-0.1.0.post0-py2.py3-none-any.whl (15 kB)\n",
      "Collecting tzdata\n",
      "  Using cached tzdata-2023.3-py2.py3-none-any.whl (341 kB)\n",
      "Requirement already satisfied: decorator>=3.4.0 in c:\\users\\sharm\\appdata\\roaming\\python\\python311\\site-packages (from validators>=0.2->streamlit) (5.1.1)\n",
      "Collecting smmap<6,>=3.0.1\n",
      "  Using cached smmap-5.0.0-py3-none-any.whl (24 kB)\n",
      "Requirement already satisfied: MarkupSafe>=2.0 in c:\\users\\sharm\\appdata\\roaming\\python\\python311\\site-packages (from jinja2->altair<5,>=3.2.0->streamlit) (2.1.2)\n",
      "Requirement already satisfied: attrs>=17.4.0 in c:\\users\\sharm\\appdata\\roaming\\python\\python311\\site-packages (from jsonschema>=3.0->altair<5,>=3.2.0->streamlit) (22.2.0)\n",
      "Collecting pyrsistent!=0.17.0,!=0.17.1,!=0.17.2,>=0.14.0\n",
      "  Using cached pyrsistent-0.19.3-cp311-cp311-win_amd64.whl (62 kB)\n",
      "Requirement already satisfied: mdurl~=0.1 in c:\\users\\sharm\\appdata\\roaming\\python\\python311\\site-packages (from markdown-it-py<3.0.0,>=2.2.0->rich>=10.11.0->streamlit) (0.1.2)\n",
      "Installing collected packages: zipp, watchdog, urllib3, tzdata, typing-extensions, toolz, toml, smmap, semver, pyrsistent, pympler, pyarrow, markdown-it-py, jinja2, click, charset-normalizer, rich, pytz-deprecation-shim, pydeck, jsonschema, gitpython, altair, streamlit\n",
      "Successfully installed altair-4.2.2 charset-normalizer-3.1.0 click-8.1.3 gitpython-3.1.31 jinja2-3.1.2 jsonschema-4.17.3 markdown-it-py-2.2.0 pyarrow-11.0.0 pydeck-0.8.0 pympler-1.0.1 pyrsistent-0.19.3 pytz-deprecation-shim-0.1.0.post0 rich-13.3.3 semver-3.0.0 smmap-5.0.0 streamlit-1.20.0 toml-0.10.2 toolz-0.12.0 typing-extensions-4.5.0 tzdata-2023.3 urllib3-1.26.15 watchdog-3.0.0 zipp-3.15.0\n"
     ]
    }
   ],
   "source": [
    "pip install streamlit"
   ]
  },
  {
   "cell_type": "code",
   "execution_count": 2,
   "id": "d0756d3a",
   "metadata": {},
   "outputs": [
    {
     "name": "stderr",
     "output_type": "stream",
     "text": [
      "2023-04-05 13:09:39.858 \n",
      "  \u001b[33m\u001b[1mWarning:\u001b[0m to view this Streamlit app on a browser, run it with the following\n",
      "  command:\n",
      "\n",
      "    streamlit run c:\\Users\\sharm\\AppData\\Local\\Programs\\Python\\Python311\\Lib\\site-packages\\ipykernel_launcher.py [ARGUMENTS]\n"
     ]
    },
    {
     "data": {
      "text/plain": [
       "DeltaGenerator(_root_container=0, _provided_cursor=None, _parent=None, _block_type=None, _form_data=None)"
      ]
     },
     "execution_count": 2,
     "metadata": {},
     "output_type": "execute_result"
    }
   ],
   "source": [
    "import streamlit as st\n",
    "import sklearn as sk\n",
    "st.title(\"abc\")\n"
   ]
  },
  {
   "cell_type": "code",
   "execution_count": 3,
   "id": "d2c86a15",
   "metadata": {},
   "outputs": [
    {
     "ename": "SyntaxError",
     "evalue": "invalid syntax (3532897409.py, line 1)",
     "output_type": "error",
     "traceback": [
      "\u001b[1;36m  Cell \u001b[1;32mIn[3], line 1\u001b[1;36m\u001b[0m\n\u001b[1;33m    streamlit run Untitled26.ipynb\u001b[0m\n\u001b[1;37m              ^\u001b[0m\n\u001b[1;31mSyntaxError\u001b[0m\u001b[1;31m:\u001b[0m invalid syntax\n"
     ]
    }
   ],
   "source": [
    "streamlit run Untitled26.ipynb"
   ]
  },
  {
   "cell_type": "code",
   "execution_count": null,
   "id": "946c2d02",
   "metadata": {},
   "outputs": [],
   "source": []
  }
 ],
 "metadata": {
  "kernelspec": {
   "display_name": "Python 3 (ipykernel)",
   "language": "python",
   "name": "python3"
  },
  "language_info": {
   "codemirror_mode": {
    "name": "ipython",
    "version": 3
   },
   "file_extension": ".py",
   "mimetype": "text/x-python",
   "name": "python",
   "nbconvert_exporter": "python",
   "pygments_lexer": "ipython3",
   "version": "3.11.2"
  }
 },
 "nbformat": 4,
 "nbformat_minor": 5
}
